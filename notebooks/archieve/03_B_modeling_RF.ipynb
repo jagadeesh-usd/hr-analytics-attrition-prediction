{
 "cells": [
  {
   "cell_type": "markdown",
   "id": "0f8a2eae",
   "metadata": {},
   "source": [
    "## Load Cleaned Dataset\n",
    "\n",
    "This step imports necessary Python libraries for data handling, visualization, and machine learning.  \n",
    "It then loads the cleaned HR dataset (e.g., `hr_employee_attrition_cleaned.csv`) and displays the first few rows to verify structure and format."
   ]
  },
  {
   "cell_type": "code",
   "execution_count": 1,
   "id": "d4937dc5-8ceb-4b13-aead-be7884e637d8",
   "metadata": {},
   "outputs": [
    {
     "name": "stdout",
     "output_type": "stream",
     "text": [
      "Requirement already satisfied: scikit-learn in c:\\users\\aroy\\anaconda3\\lib\\site-packages (1.7.0)\n",
      "Requirement already satisfied: numpy>=1.22.0 in c:\\users\\aroy\\anaconda3\\lib\\site-packages (from scikit-learn) (1.26.4)\n",
      "Requirement already satisfied: scipy>=1.8.0 in c:\\users\\aroy\\anaconda3\\lib\\site-packages (from scikit-learn) (1.13.1)\n",
      "Requirement already satisfied: joblib>=1.2.0 in c:\\users\\aroy\\anaconda3\\lib\\site-packages (from scikit-learn) (1.4.2)\n",
      "Requirement already satisfied: threadpoolctl>=3.1.0 in c:\\users\\aroy\\anaconda3\\lib\\site-packages (from scikit-learn) (3.6.0)\n",
      "Note: you may need to restart the kernel to use updated packages.\n"
     ]
    },
    {
     "name": "stderr",
     "output_type": "stream",
     "text": [
      "\n",
      "[notice] A new release of pip is available: 24.3.1 -> 25.1.1\n",
      "[notice] To update, run: python.exe -m pip install --upgrade pip\n"
     ]
    }
   ],
   "source": [
    "pip install scikit-learn\n"
   ]
  },
  {
   "cell_type": "code",
   "execution_count": 2,
   "id": "e2fa0160",
   "metadata": {},
   "outputs": [
    {
     "data": {
      "text/html": [
       "<div>\n",
       "<style scoped>\n",
       "    .dataframe tbody tr th:only-of-type {\n",
       "        vertical-align: middle;\n",
       "    }\n",
       "\n",
       "    .dataframe tbody tr th {\n",
       "        vertical-align: top;\n",
       "    }\n",
       "\n",
       "    .dataframe thead th {\n",
       "        text-align: right;\n",
       "    }\n",
       "</style>\n",
       "<table border=\"1\" class=\"dataframe\">\n",
       "  <thead>\n",
       "    <tr style=\"text-align: right;\">\n",
       "      <th></th>\n",
       "      <th>Age</th>\n",
       "      <th>Attrition</th>\n",
       "      <th>BusinessTravel</th>\n",
       "      <th>DailyRate</th>\n",
       "      <th>Department</th>\n",
       "      <th>DistanceFromHome</th>\n",
       "      <th>Education</th>\n",
       "      <th>EducationField</th>\n",
       "      <th>EmployeeCount</th>\n",
       "      <th>EmployeeNumber</th>\n",
       "      <th>...</th>\n",
       "      <th>RelationshipSatisfaction</th>\n",
       "      <th>StandardHours</th>\n",
       "      <th>StockOptionLevel</th>\n",
       "      <th>TotalWorkingYears</th>\n",
       "      <th>TrainingTimesLastYear</th>\n",
       "      <th>WorkLifeBalance</th>\n",
       "      <th>YearsAtCompany</th>\n",
       "      <th>YearsInCurrentRole</th>\n",
       "      <th>YearsSinceLastPromotion</th>\n",
       "      <th>YearsWithCurrManager</th>\n",
       "    </tr>\n",
       "  </thead>\n",
       "  <tbody>\n",
       "    <tr>\n",
       "      <th>0</th>\n",
       "      <td>41</td>\n",
       "      <td>Yes</td>\n",
       "      <td>Travel_Rarely</td>\n",
       "      <td>1102</td>\n",
       "      <td>Sales</td>\n",
       "      <td>1</td>\n",
       "      <td>2</td>\n",
       "      <td>Life Sciences</td>\n",
       "      <td>1</td>\n",
       "      <td>1</td>\n",
       "      <td>...</td>\n",
       "      <td>1</td>\n",
       "      <td>80</td>\n",
       "      <td>0</td>\n",
       "      <td>8</td>\n",
       "      <td>0</td>\n",
       "      <td>1</td>\n",
       "      <td>6</td>\n",
       "      <td>4</td>\n",
       "      <td>0</td>\n",
       "      <td>5</td>\n",
       "    </tr>\n",
       "    <tr>\n",
       "      <th>1</th>\n",
       "      <td>49</td>\n",
       "      <td>No</td>\n",
       "      <td>Travel_Frequently</td>\n",
       "      <td>279</td>\n",
       "      <td>Research &amp; Development</td>\n",
       "      <td>8</td>\n",
       "      <td>1</td>\n",
       "      <td>Life Sciences</td>\n",
       "      <td>1</td>\n",
       "      <td>2</td>\n",
       "      <td>...</td>\n",
       "      <td>4</td>\n",
       "      <td>80</td>\n",
       "      <td>1</td>\n",
       "      <td>10</td>\n",
       "      <td>3</td>\n",
       "      <td>3</td>\n",
       "      <td>10</td>\n",
       "      <td>7</td>\n",
       "      <td>1</td>\n",
       "      <td>7</td>\n",
       "    </tr>\n",
       "    <tr>\n",
       "      <th>2</th>\n",
       "      <td>37</td>\n",
       "      <td>Yes</td>\n",
       "      <td>Travel_Rarely</td>\n",
       "      <td>1373</td>\n",
       "      <td>Research &amp; Development</td>\n",
       "      <td>2</td>\n",
       "      <td>2</td>\n",
       "      <td>Other</td>\n",
       "      <td>1</td>\n",
       "      <td>4</td>\n",
       "      <td>...</td>\n",
       "      <td>2</td>\n",
       "      <td>80</td>\n",
       "      <td>0</td>\n",
       "      <td>7</td>\n",
       "      <td>3</td>\n",
       "      <td>3</td>\n",
       "      <td>0</td>\n",
       "      <td>0</td>\n",
       "      <td>0</td>\n",
       "      <td>0</td>\n",
       "    </tr>\n",
       "    <tr>\n",
       "      <th>3</th>\n",
       "      <td>33</td>\n",
       "      <td>No</td>\n",
       "      <td>Travel_Frequently</td>\n",
       "      <td>1392</td>\n",
       "      <td>Research &amp; Development</td>\n",
       "      <td>3</td>\n",
       "      <td>4</td>\n",
       "      <td>Life Sciences</td>\n",
       "      <td>1</td>\n",
       "      <td>5</td>\n",
       "      <td>...</td>\n",
       "      <td>3</td>\n",
       "      <td>80</td>\n",
       "      <td>0</td>\n",
       "      <td>8</td>\n",
       "      <td>3</td>\n",
       "      <td>3</td>\n",
       "      <td>8</td>\n",
       "      <td>7</td>\n",
       "      <td>3</td>\n",
       "      <td>0</td>\n",
       "    </tr>\n",
       "    <tr>\n",
       "      <th>4</th>\n",
       "      <td>27</td>\n",
       "      <td>No</td>\n",
       "      <td>Travel_Rarely</td>\n",
       "      <td>591</td>\n",
       "      <td>Research &amp; Development</td>\n",
       "      <td>2</td>\n",
       "      <td>1</td>\n",
       "      <td>Medical</td>\n",
       "      <td>1</td>\n",
       "      <td>7</td>\n",
       "      <td>...</td>\n",
       "      <td>4</td>\n",
       "      <td>80</td>\n",
       "      <td>1</td>\n",
       "      <td>6</td>\n",
       "      <td>3</td>\n",
       "      <td>3</td>\n",
       "      <td>2</td>\n",
       "      <td>2</td>\n",
       "      <td>2</td>\n",
       "      <td>2</td>\n",
       "    </tr>\n",
       "  </tbody>\n",
       "</table>\n",
       "<p>5 rows × 35 columns</p>\n",
       "</div>"
      ],
      "text/plain": [
       "   Age Attrition     BusinessTravel  DailyRate              Department  \\\n",
       "0   41       Yes      Travel_Rarely       1102                   Sales   \n",
       "1   49        No  Travel_Frequently        279  Research & Development   \n",
       "2   37       Yes      Travel_Rarely       1373  Research & Development   \n",
       "3   33        No  Travel_Frequently       1392  Research & Development   \n",
       "4   27        No      Travel_Rarely        591  Research & Development   \n",
       "\n",
       "   DistanceFromHome  Education EducationField  EmployeeCount  EmployeeNumber  \\\n",
       "0                 1          2  Life Sciences              1               1   \n",
       "1                 8          1  Life Sciences              1               2   \n",
       "2                 2          2          Other              1               4   \n",
       "3                 3          4  Life Sciences              1               5   \n",
       "4                 2          1        Medical              1               7   \n",
       "\n",
       "   ...  RelationshipSatisfaction StandardHours  StockOptionLevel  \\\n",
       "0  ...                         1            80                 0   \n",
       "1  ...                         4            80                 1   \n",
       "2  ...                         2            80                 0   \n",
       "3  ...                         3            80                 0   \n",
       "4  ...                         4            80                 1   \n",
       "\n",
       "   TotalWorkingYears  TrainingTimesLastYear WorkLifeBalance  YearsAtCompany  \\\n",
       "0                  8                      0               1               6   \n",
       "1                 10                      3               3              10   \n",
       "2                  7                      3               3               0   \n",
       "3                  8                      3               3               8   \n",
       "4                  6                      3               3               2   \n",
       "\n",
       "  YearsInCurrentRole  YearsSinceLastPromotion  YearsWithCurrManager  \n",
       "0                  4                        0                     5  \n",
       "1                  7                        1                     7  \n",
       "2                  0                        0                     0  \n",
       "3                  7                        3                     0  \n",
       "4                  2                        2                     2  \n",
       "\n",
       "[5 rows x 35 columns]"
      ]
     },
     "execution_count": 2,
     "metadata": {},
     "output_type": "execute_result"
    }
   ],
   "source": [
    "# Import libraries\n",
    "import pandas as pd\n",
    "import numpy as np\n",
    "import matplotlib.pyplot as plt\n",
    "import seaborn as sns\n",
    "\n",
    "from sklearn.model_selection import train_test_split\n",
    "from sklearn.preprocessing import StandardScaler, LabelEncoder\n",
    "from sklearn.ensemble import RandomForestClassifier\n",
    "from sklearn.metrics import classification_report, confusion_matrix, accuracy_score, roc_auc_score, roc_curve\n",
    "\n",
    "# Load cleaned dataset\n",
    "df = pd.read_csv(\"'../resources/data/output/hr_employee_attrition_cleaned.csv\")  \n",
    "df.head()"
   ]
  },
  {
   "cell_type": "markdown",
   "id": "3ca995c3",
   "metadata": {},
   "source": [
    "## Encode Target and Categorical Features\n",
    "\n",
    "The target variable `Attrition` is converted to binary values (`1` for 'Yes', `0` for 'No').  \n",
    "All remaining categorical features are encoded using `LabelEncoder`, making them suitable for machine learning models that require numerical input.  \n",
    "This step also separates the dataset into features `X` and the target `y`."
   ]
  },
  {
   "cell_type": "code",
   "execution_count": 3,
   "id": "209bdf30",
   "metadata": {},
   "outputs": [],
   "source": [
    "# Encode target variable\n",
    "df['Attrition'] = df['Attrition'].apply(lambda x: 1 if x == 'Yes' else 0)\n",
    "\n",
    "# Separate features and target\n",
    "X = df.drop('Attrition', axis=1)\n",
    "y = df['Attrition']\n",
    "\n",
    "# Identify and encode categorical features\n",
    "categorical_cols = X.select_dtypes(include=['object']).columns\n",
    "le = LabelEncoder()\n",
    "for col in categorical_cols:\n",
    "    X[col] = le.fit_transform(X[col])\n"
   ]
  },
  {
   "cell_type": "markdown",
   "id": "b224fbda",
   "metadata": {},
   "source": [
    "## Train-Test Split and Scaling\n",
    "\n",
    "The dataset is split into training and testing sets using a 70:30 ratio, stratifying by the target variable to maintain class distribution.\n",
    "\n",
    "Since Random Forest is generally not sensitive to feature scaling, this step is optional. However, to ensure consistency and potential compatibility with other models (like Logistic Regression or SVM), we apply `StandardScaler` to normalize the input features."
   ]
  },
  {
   "cell_type": "code",
   "execution_count": 4,
   "id": "da287b6d",
   "metadata": {},
   "outputs": [],
   "source": [
    "# Train-test split\n",
    "X_train, X_test, y_train, y_test = train_test_split(X, y, test_size=0.3, stratify=y, random_state=42)\n",
    "\n",
    "# Feature scaling\n",
    "scaler = StandardScaler()\n",
    "X_train_scaled = scaler.fit_transform(X_train)\n",
    "X_test_scaled = scaler.transform(X_test)\n"
   ]
  },
  {
   "cell_type": "markdown",
   "id": "779c8217",
   "metadata": {},
   "source": [
    "## Train Random Forest Classifier\n",
    "\n",
    "A `RandomForestClassifier` is trained on the scaled training data.  \n",
    "The model uses 100 decision trees and a balanced class weight to handle any class imbalance between employees who stayed vs. those who left.  \n",
    "Predictions are made for both class labels and class probabilities."
   ]
  },
  {
   "cell_type": "code",
   "execution_count": 5,
   "id": "533bd4cd",
   "metadata": {},
   "outputs": [],
   "source": [
    "# Train Random Forest Classifier\n",
    "rf_model = RandomForestClassifier(n_estimators=100, random_state=42, class_weight='balanced')\n",
    "rf_model.fit(X_train_scaled, y_train)\n",
    "\n",
    "# Predictions\n",
    "y_pred = rf_model.predict(X_test_scaled)\n",
    "y_prob = rf_model.predict_proba(X_test_scaled)[:, 1]\n"
   ]
  },
  {
   "cell_type": "markdown",
   "id": "cb76a5c8",
   "metadata": {},
   "source": [
    "## Evaluate Random Forest Performance\n",
    "\n",
    "This section prints:\n",
    "- **Accuracy**: The percentage of correctly predicted instances.\n",
    "- **Classification Report**: Includes precision, recall, F1-score for both classes.\n",
    "- **ROC AUC Score**: Measures the classifier's ability to distinguish between classes; a higher score indicates better separability."
   ]
  },
  {
   "cell_type": "code",
   "execution_count": 6,
   "id": "fa424623",
   "metadata": {},
   "outputs": [
    {
     "name": "stdout",
     "output_type": "stream",
     "text": [
      "Accuracy: 0.8367346938775511\n",
      "Classification Report:\n",
      "               precision    recall  f1-score   support\n",
      "\n",
      "           0       0.85      0.98      0.91       370\n",
      "           1       0.46      0.08      0.14        71\n",
      "\n",
      "    accuracy                           0.84       441\n",
      "   macro avg       0.65      0.53      0.53       441\n",
      "weighted avg       0.79      0.84      0.79       441\n",
      "\n",
      "ROC AUC Score: 0.7383326988960791\n"
     ]
    }
   ],
   "source": [
    "# Evaluation\n",
    "print(\"Accuracy:\", accuracy_score(y_test, y_pred))\n",
    "print(\"Classification Report:\\n\", classification_report(y_test, y_pred))\n",
    "print(\"ROC AUC Score:\", roc_auc_score(y_test, y_prob))\n"
   ]
  },
  {
   "cell_type": "markdown",
   "id": "6dd003e9",
   "metadata": {},
   "source": [
    "### 🔍 Output Summary\n",
    "```\n",
    "Accuracy: 0.8367346938775511\n",
    "Classification Report:\n",
    "               precision    recall  f1-score   support\n",
    "\n",
    "           0       0.85      0.98      0.91       370\n",
    "           1       0.46      0.08      0.14        71\n",
    "\n",
    "    accuracy                           0.84       441\n",
    "   macro avg       0.65      0.53      0.53       441\n",
    "weighted avg       0.79      0.84      0.79       441\n",
    "\n",
    "ROC AUC Score: 0.7383326988960791\n",
    "```"
   ]
  },
  {
   "cell_type": "markdown",
   "id": "6e15f48b",
   "metadata": {},
   "source": [
    "## Confusion Matrix\n",
    "\n",
    "The confusion matrix helps visualize the number of true positives, true negatives, false positives, and false negatives.  \n",
    "This helps understand whether the model is skewing more towards predicting attrition or non-attrition cases."
   ]
  },
  {
   "cell_type": "code",
   "execution_count": 7,
   "id": "1da5bfa0",
   "metadata": {},
   "outputs": [
    {
     "data": {
      "image/png": "[encoded data removed]",
      "text/plain": [
       "<Figure size 640x480 with 2 Axes>"
      ]
     },
     "metadata": {},
     "output_type": "display_data"
    }
   ],
   "source": [
    "# Confusion matrix\n",
    "cm = confusion_matrix(y_test, y_pred)\n",
    "sns.heatmap(cm, annot=True, fmt='d', cmap='Blues')\n",
    "plt.title(\"Confusion Matrix\")\n",
    "plt.xlabel(\"Predicted\")\n",
    "plt.ylabel(\"Actual\")\n",
    "plt.show()\n"
   ]
  },
  {
   "cell_type": "markdown",
   "id": "faf2e24f",
   "metadata": {},
   "source": [
    "## Feature Importance from Random Forest\n",
    "\n",
    "Random Forest models can quantify the importance of each feature used in decision trees.  \n",
    "This plot highlights the **top 10 features** that have the greatest impact on the prediction of employee attrition.  \n",
    "These insights can help HR prioritize factors that lead to employee turnover."
   ]
  },
  {
   "cell_type": "code",
   "execution_count": 8,
   "id": "44a9dd1a",
   "metadata": {},
   "outputs": [
    {
     "data": {
      "image/png": "[encoded data removed]",
      "text/plain": [
       "<Figure size 640x480 with 1 Axes>"
      ]
     },
     "metadata": {},
     "output_type": "display_data"
    }
   ],
   "source": [
    "# Feature importance\n",
    "importances = pd.Series(rf_model.feature_importances_, index=X.columns)\n",
    "importances.nlargest(10).plot(kind='barh')\n",
    "plt.title(\"Top 10 Important Features\")\n",
    "plt.xlabel(\"Feature Importance\")\n",
    "plt.show()\n"
   ]
  },
  {
   "cell_type": "markdown",
   "id": "6d916d17",
   "metadata": {},
   "source": [
    "## ROC Curve\n",
    "\n",
    "The ROC (Receiver Operating Characteristic) curve is plotted to show the trade-off between True Positive Rate and False Positive Rate.  \n",
    "The closer the curve follows the top-left border, the better the model performance.  \n",
    "The **AUC (Area Under Curve)** value provides a single scalar to compare model performance across different thresholds."
   ]
  },
  {
   "cell_type": "code",
   "execution_count": 9,
   "id": "6d42e087-9254-48e7-867d-c3155dc15c79",
   "metadata": {},
   "outputs": [
    {
     "data": {
      "image/png": "[encoded data removed]",
      "text/plain": [
       "<Figure size 640x480 with 1 Axes>"
      ]
     },
     "metadata": {},
     "output_type": "display_data"
    },
    {
     "name": "stdout",
     "output_type": "stream",
     "text": [
      "=== Model Performance Metrics ===\n",
      "Accuracy : 0.8367\n",
      "Precision: 0.4615\n",
      "Recall   : 0.0845\n",
      "F1 Score : 0.1429\n",
      "ROC AUC  : 0.7383\n"
     ]
    }
   ],
   "source": [
    "from sklearn.metrics import classification_report, accuracy_score, precision_score, recall_score, f1_score\n",
    "\n",
    "# ROC Curve\n",
    "fpr, tpr, _ = roc_curve(y_test, y_prob)\n",
    "plt.plot(fpr, tpr, label=f'ROC Curve (AUC = {roc_auc_score(y_test, y_prob):.2f})')\n",
    "plt.plot([0, 1], [0, 1], linestyle='--')\n",
    "plt.xlabel(\"False Positive Rate\")\n",
    "plt.ylabel(\"True Positive Rate\")\n",
    "plt.title(\"ROC Curve\")\n",
    "plt.legend()\n",
    "plt.show()\n",
    "\n",
    "# Key classification metrics\n",
    "accuracy = accuracy_score(y_test, y_pred)\n",
    "precision = precision_score(y_test, y_pred)\n",
    "recall = recall_score(y_test, y_pred)\n",
    "f1 = f1_score(y_test, y_pred)\n",
    "auc = roc_auc_score(y_test, y_prob)\n",
    "\n",
    "# Print the results\n",
    "print(\"=== Model Performance Metrics ===\")\n",
    "print(f\"Accuracy : {accuracy:.4f}\")\n",
    "print(f\"Precision: {precision:.4f}\")\n",
    "print(f\"Recall   : {recall:.4f}\")\n",
    "print(f\"F1 Score : {f1:.4f}\")\n",
    "print(f\"ROC AUC  : {auc:.4f}\")\n"
   ]
  },
  {
   "cell_type": "markdown",
   "id": "6d777b25",
   "metadata": {},
   "source": [
    "###  Output Summary: ROC Curve\n",
    "- The ROC curve plots **True Positive Rate vs. False Positive Rate**.\n",
    "- A model with perfect separation will have a curve that hugs the top-left corner.\n",
    "- A **diagonal line** would indicate random guessing.\n",
    "- The ROC curve shown suggests how well the Random Forest model distinguishes between attrition and non-attrition cases."
   ]
  },
  {
   "cell_type": "markdown",
   "id": "a205d4f4",
   "metadata": {},
   "source": [
    "###  Conclusion\n",
    "- The area under the ROC curve (AUC) gives a single metric to evaluate overall classification performance.\n",
    "- If the AUC value is **close to 1**, the model is highly capable of distinguishing classes.\n",
    "- If it's closer to **0.5**, the model performs no better than random chance.\n",
    "- Based on the ROC curve and AUC printed earlier, the model appears to perform reliably for binary classification of attrition."
   ]
  },
  {
   "cell_type": "markdown",
   "id": "42616348-4f09-4a0f-bd2e-590aa4f8da31",
   "metadata": {},
   "source": [
    "###  Output Summary: ROC Curve & Classification Metrics\n",
    "\n",
    "- **Accuracy**: 83.67%\n",
    "- **Precision**: 46.15%\n",
    "- **Recall**: 8.45%\n",
    "- **F1 Score**: 14.29%\n",
    "- **ROC AUC**: 0.7383\n",
    "\n",
    "- The ROC curve plots **True Positive Rate (Recall)** against **False Positive Rate** across classification thresholds.\n",
    "- An **AUC of 0.7383** indicates moderate ability to distinguish between employees who leave vs. those who stay.\n",
    "- **Recall is very low (8.45%)**, meaning the model misses most actual attrition cases.\n",
    "- **Precision is moderate (46.15%)**, so when attrition is predicted, it's correct less than half the time.\n",
    "\n",
    "---\n",
    "\n",
    "###  Conclusion\n",
    "\n",
    "- The model achieves **high overall accuracy** but fails to capture enough true attrition cases.\n",
    "- The **low recall and F1 Score** suggest it is biased toward predicting \"No Attrition\".\n",
    "- This can be risky if the goal is **early intervention** or **retention planning**.\n",
    "- Consider these improvements:\n",
    "  - Use **resampling techniques** (e.g., SMOTE, undersampling).\n",
    "  - Tune model hyperparameters further.\n",
    "  - Try more powerful models like **XGBoost**, which handle class imbalance better.\n",
    "- **Bottom line**: The model has promise but needs recall improvement to be actionable in real HR use cases.\n"
   ]
  }
 ],
 "metadata": {
  "kernelspec": {
   "display_name": "Python 3 (ipykernel)",
   "language": "python",
   "name": "python3"
  },
  "language_info": {
   "codemirror_mode": {
    "name": "ipython",
    "version": 3
   },
   "file_extension": ".py",
   "mimetype": "text/x-python",
   "name": "python",
   "nbconvert_exporter": "python",
   "pygments_lexer": "ipython3",
   "version": "3.12.4"
  }
 },
 "nbformat": 4,
 "nbformat_minor": 5
}
