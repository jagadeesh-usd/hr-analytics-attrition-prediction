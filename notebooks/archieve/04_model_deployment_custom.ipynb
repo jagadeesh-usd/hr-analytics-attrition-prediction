{
 "cells": [
  {
   "cell_type": "markdown",
   "metadata": {},
   "source": [
    "## Deploying the Attrition Model: A Production Plan\n",
    "\n",
    "This document outlines a complete, production-grade deployment plan for the XGBoost attrition model. The objective is to turn the model into a reliable, scalable, and secure business tool that delivers real-time insights."
   ]
  },
  {
   "cell_type": "markdown",
   "metadata": {},
   "source": [
    "### 1. Deployment Strategy & Objectives\n",
    "\n",
    "We will deploy the model as a **real-time REST API**. This approach supports on-demand use cases, such as integrating predictions directly into an HR portal to provide managers with immediate employee attrition risk scores.\n",
    "\n",
    "**Key Performance Indicators (KPIs) & Targets:**\n",
    "* **Latency Target**: p95 latency of ≤ 200ms for end-to-end predictions.\n",
    "* **Traffic Estimate**: Approximately 500 prediction requests per day.\n",
    "* **Cost Envelope**: Target of ≈ $80/month, covering compute, monitoring, and storage.\n",
    "* **Update Cadence**: Features will be refreshed daily, with a full model retrain scheduled monthly.\n",
    "* **Fallback Plan**: If the real-time API is unavailable for more than 5 minutes, the system will fall back to serving nightly cached batch scores."
   ]
  },
  {
   "cell_type": "markdown",
   "metadata": {},
   "source": [
    "### 2. Technology Stack & Architecture\n",
    "\n",
    "The architecture is designed for scalability, maintainability, and cost-efficiency using a modern MLOps stack.\n",
    "\n",
    "| Component | Technology | Purpose |\n",
    "|---|---|---|\n",
    "| **Model Serving** | **FastAPI (Python)** | High-performance, asynchronous API for the `/predict` endpoint. |\n",
    "| **Containerization** | **Docker** | Creates a portable, consistent, and lightweight (~120 MB) runtime environment. |\n",
    "| **Orchestration** | **AWS EKS (Fargate Profile)** | Serverless, auto-scaling Kubernetes hosting that scales to zero to manage cost. |\n",
    "| **Feature Store** | **Delta Lake on S3** | Ensures training-serving parity and enables point-in-time correct joins. |\n",
    "| **CI/CD** | **Helm + ArgoCD** | Manages blue-green/canary deployments and automates syncing changes to production. |\n",
    "| **Model Registry** | **MLflow Registry** | Versions models and their artifacts; manages promotion through Staging to Production. |\n",
    "| **Monitoring** | **Prometheus & Grafana** | Scrapes and visualizes service health metrics like latency and error rates. |\n",
    "| **Drift Detection** | **Evidently AI** | Monitors data and prediction distributions to detect drift and trigger alerts. |\n",
    "| **Secret Management** | **HashiCorp Vault** | Securely stores and manages access to secrets like API keys and database credentials. |"
   ]
  },
  {
   "cell_type": "markdown",
   "metadata": {},
   "source": [
    "#### **High-Level Architecture Diagram**\n",
    "\n",
    "```\n",
    "*******************************************************************************\n",
    "* *\n",
    "* PLACEHOLDER FOR ARCHITECTURE DIAGRAM                     *\n",
    "* *\n",
    "* Diagram should show:                                                      *\n",
    "* 1. HR Portal (Client) -> API Gateway (Auth)                               *\n",
    "* 2. API Gateway -> EKS Fargate Service (FastAPI Container)                 *\n",
    "* 3. FastAPI app -> Feature Store (for live features)                        *\n",
    "* 4. EKS -> Prometheus/Grafana (for metrics)                                *\n",
    "* 5. EKS -> Evidently (for drift)                                           *\n",
    "* 6. MLflow Registry and ArgoCD showing the CI/CD flow                      *\n",
    "* *\n",
    "*******************************************************************************\n",
    "```"
   ]
  },
  {
   "cell_type": "markdown",
   "metadata": {},
   "source": [
    "### 3. API Endpoint Design\n",
    "\n",
    "The API will expose a `/predict` endpoint for generating attrition scores.\n",
    "\n",
    "* **Endpoint:** `/predict`\n",
    "* **Method:** `POST`\n",
    "* **Authentication:** OAuth2 scopes managed via an API Gateway.\n",
    "\n",
    "#### **API Skeleton (FastAPI)**\n",
    "Below is a minimal code example for the API server."
   ]
  },
  {
   "cell_type": "code",
   "execution_count": null,
   "metadata": {},
   "outputs": [],
   "source": [
    "# Illustrative code; not for execution in this notebook\n",
    "from fastapi import FastAPI\n",
    "from pydantic import BaseModel\n",
    "import pandas as pd\n",
    "import numpy as np\n",
    "import joblib\n",
    "\n",
    "app = FastAPI(title=\"Attrition Predictor\", version=\"1.0\")\n",
    "# The model pipeline is loaded from a file path inside the container\n",
    "# model = joblib.load(\"models/attrition_pipeline.joblib\")\n",
    "\n",
    "class Employee(BaseModel):\n",
    "    Age: int\n",
    "    JobRole: str\n",
    "    MonthlyIncome: float\n",
    "    YearsAtCompany: int\n",
    "    OverTime: str\n",
    "\n",
    "@app.post(\"/predict\", summary=\"Predict employee attrition probability\")\n",
    "def predict(emp: Employee):\n",
    "    \"\"\"Accepts employee data and returns the attrition probability.\"\"\"\n",
    "    # In a real app, this would pull from a feature store\n",
    "    X = pd.DataFrame([emp.dict()])\n",
    "    # proba = float(model.predict_proba(X)[0, 1])\n",
    "    proba = 0.81 # Dummy value for illustration\n",
    "    return {\n",
    "        \"attrition_probability\": np.round(proba, 4),\n",
    "        \"model_version\": \"1.0.0\" # Version from MLflow\n",
    "    }"
   ]
  },
  {
   "cell_type": "markdown",
   "metadata": {},
   "source": [
    "### 4. Monitoring, Maintenance & Retraining\n",
    "\n",
    "A multi-layered monitoring and retraining strategy ensures the model remains performant, fair, and reliable.\n",
    "\n",
    "* **Service Health**: p95 latency and 5XX error rates are scraped by **Prometheus** and visualized in **Grafana**. Alerts are configured for performance degradation.\n",
    "* **Model & Data Drift**: **Evidently AI** continuously compares live traffic against a training data baseline. A Population Stability Index (PSI) > 0.2 on key features triggers an alert to MLOps via Slack and PagerDuty.\n",
    "* **Model Performance**: Ground truth (actual employee terminations) is joined with predictions to track recall. A drop of more than 5 percentage points automatically triggers the retraining pipeline.\n",
    "* **Fairness & Bias**: A quarterly batch job computes the difference in recall across protected attributes (e.g., gender, age). An alert is sent if the gap exceeds 5 percentage points.\n",
    "\n",
    "#### **Automated Retraining Pipeline (Airflow)**\n",
    "A weekly Airflow DAG manages the model update process:\n",
    "1.  **Extract & Update**: Pull the latest data from the HRIS to update the feature store snapshot.\n",
    "2.  **Train & Evaluate**: Train a new candidate model and evaluate it against a hold-out dataset.\n",
    "3.  **Log & Register**: Log all artifacts, metrics, and parameters to **MLflow**.\n",
    "4.  **Promotion Gate**: Automatically compare the candidate to the production model. To be promoted, the candidate must show superior recall and precision and have a bias metric within a ±2 pp threshold.\n",
    "5.  **Deploy**: If the gate is passed, the model's stage in MLflow is updated to \"Production,\" and **ArgoCD** syncs the new Helm chart to the EKS cluster."
   ]
  },
  {
   "cell_type": "markdown",
   "metadata": {},
   "source": [
    "### 5. Risk, Governance & Compliance\n",
    "\n",
    "Managing risk is critical for any HR-related AI system.\n",
    "\n",
    "* **Security**: All traffic is encrypted with TLS. Secrets and credentials are managed externally in **HashiCorp Vault**. Role-based access control (RBAC) is enforced with OAuth2 scopes.\n",
    "* **Privacy & Data Retention**: Input features are logged for audit but purged after 180 days to respect privacy. The system includes a flag to honor employee opt-out requests.\n",
    "* **Ethical Use**: The model serves as a decision-support tool. It is not fully automated. A human manager is always in the loop and must record a reason for any action taken.\n",
    "* **Regulatory Compliance**: The system and its data handling procedures are designed for compliance with GDPR, India's PDP, and EEOC AI guidance, with checks performed quarterly."
   ]
  },
  {
   "cell_type": "markdown",
   "metadata": {},
   "source": [
    "### 6. Conclusion and Next Steps\n",
    "\n",
    "The deployment design meets all latency, cost, and governance requirements while leveraging modern DevOps and MLOps patterns. It provides a clear path to a production-ready system.\n",
    "\n",
    "The next milestone is to implement the **Infrastructure as Code (IaC)** using Terraform and Helm. Following this, a pilot program will be launched with the Sales and R&D teams in **Q3 2025**."
   ]
  }
 ],
 "metadata": {
  "language_info": {
   "name": "python"
  }
 },
 "nbformat": 4,
 "nbformat_minor": 2
}
